{
  "nbformat": 4,
  "nbformat_minor": 0,
  "metadata": {
    "colab": {
      "name": "Project 2.ipynb",
      "provenance": [],
      "collapsed_sections": []
    },
    "kernelspec": {
      "name": "python3",
      "display_name": "Python 3"
    }
  },
  "cells": [
    {
      "cell_type": "code",
      "metadata": {
        "id": "RT59FohIOnq9"
      },
      "source": [
        "import pandas as pd\n",
        "import numpy as np\n",
        "import seaborn as sns\n",
        "import matplotlib.pyplot as plt\n",
        "%matplotlib inline\n",
        " \n",
        "from sklearn.preprocessing import StandardScaler\n",
        "from sklearn.decomposition import PCA\n",
        "from sklearn import decomposition"
      ],
      "execution_count": null,
      "outputs": []
    },
    {
      "cell_type": "code",
      "metadata": {
        "colab": {
          "base_uri": "https://localhost:8080/",
          "height": 595
        },
        "id": "kOm2uigIPj-3",
        "outputId": "7611ee1b-882d-40fe-c77f-a2e0bc7d2f5f"
      },
      "source": [
        "market = pd.read_csv('marketplace.csv', sep=',', index_col=0)\r\n",
        "market.head()"
      ],
      "execution_count": null,
      "outputs": [
        {
          "output_type": "execute_result",
          "data": {
            "text/html": [
              "<div>\n",
              "<style scoped>\n",
              "    .dataframe tbody tr th:only-of-type {\n",
              "        vertical-align: middle;\n",
              "    }\n",
              "\n",
              "    .dataframe tbody tr th {\n",
              "        vertical-align: top;\n",
              "    }\n",
              "\n",
              "    .dataframe thead th {\n",
              "        text-align: right;\n",
              "    }\n",
              "</style>\n",
              "<table border=\"1\" class=\"dataframe\">\n",
              "  <thead>\n",
              "    <tr style=\"text-align: right;\">\n",
              "      <th></th>\n",
              "      <th>sku_name</th>\n",
              "      <th>product_id</th>\n",
              "      <th>merchant_code</th>\n",
              "      <th>merchant_badge</th>\n",
              "      <th>product_type</th>\n",
              "      <th>merchant_city</th>\n",
              "      <th>cod</th>\n",
              "      <th>price</th>\n",
              "      <th>stock</th>\n",
              "      <th>daily_gmv</th>\n",
              "      <th>daily_sold</th>\n",
              "      <th>daily_view</th>\n",
              "      <th>rating</th>\n",
              "      <th>total_review</th>\n",
              "      <th>total_sold</th>\n",
              "    </tr>\n",
              "    <tr>\n",
              "      <th>date</th>\n",
              "      <th></th>\n",
              "      <th></th>\n",
              "      <th></th>\n",
              "      <th></th>\n",
              "      <th></th>\n",
              "      <th></th>\n",
              "      <th></th>\n",
              "      <th></th>\n",
              "      <th></th>\n",
              "      <th></th>\n",
              "      <th></th>\n",
              "      <th></th>\n",
              "      <th></th>\n",
              "      <th></th>\n",
              "      <th></th>\n",
              "    </tr>\n",
              "  </thead>\n",
              "  <tbody>\n",
              "    <tr>\n",
              "      <th>3/11/2020</th>\n",
              "      <td>HUAWEI NOVA 5T RAM 8GB INTERNAL 128GB</td>\n",
              "      <td>E1</td>\n",
              "      <td>1.0</td>\n",
              "      <td>PM</td>\n",
              "      <td>Huawei nova 5T</td>\n",
              "      <td>Kota Kediri</td>\n",
              "      <td>False</td>\n",
              "      <td>4500000</td>\n",
              "      <td>1</td>\n",
              "      <td>0</td>\n",
              "      <td>0</td>\n",
              "      <td>0</td>\n",
              "      <td>95</td>\n",
              "      <td>37</td>\n",
              "      <td>74</td>\n",
              "    </tr>\n",
              "    <tr>\n",
              "      <th>3/26/2020</th>\n",
              "      <td>Huawei Nova 5T (8GB/128GB) - Crush Green</td>\n",
              "      <td>F1</td>\n",
              "      <td>2.0</td>\n",
              "      <td>OS</td>\n",
              "      <td>Huawei nova 5T</td>\n",
              "      <td>Kota Administrasi Jakarta Utara</td>\n",
              "      <td>False</td>\n",
              "      <td>4999000</td>\n",
              "      <td>5</td>\n",
              "      <td>0</td>\n",
              "      <td>0</td>\n",
              "      <td>0</td>\n",
              "      <td>0</td>\n",
              "      <td>0</td>\n",
              "      <td>2</td>\n",
              "    </tr>\n",
              "    <tr>\n",
              "      <th>3/23/2020</th>\n",
              "      <td>HUAWEI NOVA 5T RAM 8/128 GARANSI RESMI HUAWEI ...</td>\n",
              "      <td>F2</td>\n",
              "      <td>3.0</td>\n",
              "      <td>PM</td>\n",
              "      <td>Huawei nova 5T</td>\n",
              "      <td>Kota Administrasi Jakarta Barat</td>\n",
              "      <td>False</td>\n",
              "      <td>4589900</td>\n",
              "      <td>16</td>\n",
              "      <td>0</td>\n",
              "      <td>0</td>\n",
              "      <td>0</td>\n",
              "      <td>96</td>\n",
              "      <td>12</td>\n",
              "      <td>19</td>\n",
              "    </tr>\n",
              "    <tr>\n",
              "      <th>4/29/2020</th>\n",
              "      <td>HUAWEI NOVA 5T RAM 8/128GB GARANSI RESMI HUAWE...</td>\n",
              "      <td>E2</td>\n",
              "      <td>4.0</td>\n",
              "      <td>OS</td>\n",
              "      <td>Huawei nova 5T</td>\n",
              "      <td>Kota Surabaya</td>\n",
              "      <td>False</td>\n",
              "      <td>4698500</td>\n",
              "      <td>5</td>\n",
              "      <td>0</td>\n",
              "      <td>0</td>\n",
              "      <td>0</td>\n",
              "      <td>99</td>\n",
              "      <td>42</td>\n",
              "      <td>63</td>\n",
              "    </tr>\n",
              "    <tr>\n",
              "      <th>4/15/2020</th>\n",
              "      <td>nokia 3310 reborn</td>\n",
              "      <td>C1</td>\n",
              "      <td>5.0</td>\n",
              "      <td>RM</td>\n",
              "      <td>Nokia 1</td>\n",
              "      <td>Kab. Bangkalan</td>\n",
              "      <td>True</td>\n",
              "      <td>1000000</td>\n",
              "      <td>999999</td>\n",
              "      <td>0</td>\n",
              "      <td>0</td>\n",
              "      <td>3</td>\n",
              "      <td>100</td>\n",
              "      <td>18</td>\n",
              "      <td>82</td>\n",
              "    </tr>\n",
              "  </tbody>\n",
              "</table>\n",
              "</div>"
            ],
            "text/plain": [
              "                                                    sku_name  ... total_sold\n",
              "date                                                          ...           \n",
              "3/11/2020              HUAWEI NOVA 5T RAM 8GB INTERNAL 128GB  ...         74\n",
              "3/26/2020           Huawei Nova 5T (8GB/128GB) - Crush Green  ...          2\n",
              "3/23/2020  HUAWEI NOVA 5T RAM 8/128 GARANSI RESMI HUAWEI ...  ...         19\n",
              "4/29/2020  HUAWEI NOVA 5T RAM 8/128GB GARANSI RESMI HUAWE...  ...         63\n",
              "4/15/2020                                  nokia 3310 reborn  ...         82\n",
              "\n",
              "[5 rows x 15 columns]"
            ]
          },
          "metadata": {
            "tags": []
          },
          "execution_count": 5
        }
      ]
    },
    {
      "cell_type": "markdown",
      "metadata": {
        "id": "PTgm4hlPix4D"
      },
      "source": [
        "banyak observasi dan variabel"
      ]
    },
    {
      "cell_type": "code",
      "metadata": {
        "colab": {
          "base_uri": "https://localhost:8080/"
        },
        "id": "OKs_HlZ6i82_",
        "outputId": "782bcbf9-cbf4-48e2-f8b7-77cea268799c"
      },
      "source": [
        "market.shape"
      ],
      "execution_count": null,
      "outputs": [
        {
          "output_type": "execute_result",
          "data": {
            "text/plain": [
              "(26014, 15)"
            ]
          },
          "metadata": {
            "tags": []
          },
          "execution_count": 5
        }
      ]
    },
    {
      "cell_type": "markdown",
      "metadata": {
        "id": "aB3GukETS0v3"
      },
      "source": [
        "nilai dengan duplicate"
      ]
    },
    {
      "cell_type": "code",
      "metadata": {
        "colab": {
          "base_uri": "https://localhost:8080/",
          "height": 1000
        },
        "id": "OPLFJ3aUl2EN",
        "outputId": "777c7d7b-c16f-4b28-b232-80f1a0e3265d"
      },
      "source": [
        "dup = market.duplicated()\r\n",
        "print(dup.sum())\r\n",
        "market[dup]"
      ],
      "execution_count": null,
      "outputs": [
        {
          "output_type": "stream",
          "text": [
            "2220\n"
          ],
          "name": "stdout"
        },
        {
          "output_type": "execute_result",
          "data": {
            "text/html": [
              "<div>\n",
              "<style scoped>\n",
              "    .dataframe tbody tr th:only-of-type {\n",
              "        vertical-align: middle;\n",
              "    }\n",
              "\n",
              "    .dataframe tbody tr th {\n",
              "        vertical-align: top;\n",
              "    }\n",
              "\n",
              "    .dataframe thead th {\n",
              "        text-align: right;\n",
              "    }\n",
              "</style>\n",
              "<table border=\"1\" class=\"dataframe\">\n",
              "  <thead>\n",
              "    <tr style=\"text-align: right;\">\n",
              "      <th></th>\n",
              "      <th>sku_name</th>\n",
              "      <th>product_id</th>\n",
              "      <th>merchant_code</th>\n",
              "      <th>merchant_badge</th>\n",
              "      <th>product_type</th>\n",
              "      <th>merchant_city</th>\n",
              "      <th>cod</th>\n",
              "      <th>price</th>\n",
              "      <th>stock</th>\n",
              "      <th>daily_gmv</th>\n",
              "      <th>daily_sold</th>\n",
              "      <th>daily_view</th>\n",
              "      <th>rating</th>\n",
              "      <th>total_review</th>\n",
              "      <th>total_sold</th>\n",
              "    </tr>\n",
              "    <tr>\n",
              "      <th>date</th>\n",
              "      <th></th>\n",
              "      <th></th>\n",
              "      <th></th>\n",
              "      <th></th>\n",
              "      <th></th>\n",
              "      <th></th>\n",
              "      <th></th>\n",
              "      <th></th>\n",
              "      <th></th>\n",
              "      <th></th>\n",
              "      <th></th>\n",
              "      <th></th>\n",
              "      <th></th>\n",
              "      <th></th>\n",
              "      <th></th>\n",
              "    </tr>\n",
              "  </thead>\n",
              "  <tbody>\n",
              "    <tr>\n",
              "      <th>4/25/2020</th>\n",
              "      <td>oppo A9 2020 ram 8/128gb garansi resmi</td>\n",
              "      <td>E5</td>\n",
              "      <td>12.0</td>\n",
              "      <td>RM</td>\n",
              "      <td>Oppo A9</td>\n",
              "      <td>Kota Administrasi Jakarta Utara</td>\n",
              "      <td>False</td>\n",
              "      <td>4100000</td>\n",
              "      <td>999959</td>\n",
              "      <td>0</td>\n",
              "      <td>0</td>\n",
              "      <td>1</td>\n",
              "      <td>98</td>\n",
              "      <td>29</td>\n",
              "      <td>45</td>\n",
              "    </tr>\n",
              "    <tr>\n",
              "      <th>4/19/2020</th>\n",
              "      <td>[NEW] Oppo A9 2020 8/128 GB Garansi Resmi RAM ...</td>\n",
              "      <td>E7</td>\n",
              "      <td>16.0</td>\n",
              "      <td>RM</td>\n",
              "      <td>Oppo A9</td>\n",
              "      <td>Kota Administrasi Jakarta Barat</td>\n",
              "      <td>False</td>\n",
              "      <td>3575000</td>\n",
              "      <td>840</td>\n",
              "      <td>0</td>\n",
              "      <td>0</td>\n",
              "      <td>14</td>\n",
              "      <td>94</td>\n",
              "      <td>119</td>\n",
              "      <td>261</td>\n",
              "    </tr>\n",
              "    <tr>\n",
              "      <th>4/26/2020</th>\n",
              "      <td>hp Oppo a9 2020</td>\n",
              "      <td>F5</td>\n",
              "      <td>17.0</td>\n",
              "      <td>RM</td>\n",
              "      <td>Oppo A9</td>\n",
              "      <td>Kota Administrasi Jakarta Barat</td>\n",
              "      <td>False</td>\n",
              "      <td>4000000</td>\n",
              "      <td>9925</td>\n",
              "      <td>0</td>\n",
              "      <td>0</td>\n",
              "      <td>3</td>\n",
              "      <td>100</td>\n",
              "      <td>32</td>\n",
              "      <td>75</td>\n",
              "    </tr>\n",
              "    <tr>\n",
              "      <th>4/28/2020</th>\n",
              "      <td>Oppo F3 Ram 4gb Rom 64gb Garansi Resmi</td>\n",
              "      <td>A2</td>\n",
              "      <td>10.0</td>\n",
              "      <td>RM</td>\n",
              "      <td>Oppo F3</td>\n",
              "      <td>Kota Tangerang Selatan</td>\n",
              "      <td>False</td>\n",
              "      <td>3199000</td>\n",
              "      <td>999999</td>\n",
              "      <td>0</td>\n",
              "      <td>0</td>\n",
              "      <td>2</td>\n",
              "      <td>94</td>\n",
              "      <td>56</td>\n",
              "      <td>91</td>\n",
              "    </tr>\n",
              "    <tr>\n",
              "      <th>4/29/2020</th>\n",
              "      <td>Oppo F3 Ram 4gb Rom 64gb Garansi Resmi</td>\n",
              "      <td>A2</td>\n",
              "      <td>10.0</td>\n",
              "      <td>RM</td>\n",
              "      <td>Oppo F3</td>\n",
              "      <td>Kota Tangerang Selatan</td>\n",
              "      <td>False</td>\n",
              "      <td>3199000</td>\n",
              "      <td>999999</td>\n",
              "      <td>0</td>\n",
              "      <td>0</td>\n",
              "      <td>2</td>\n",
              "      <td>94</td>\n",
              "      <td>56</td>\n",
              "      <td>91</td>\n",
              "    </tr>\n",
              "    <tr>\n",
              "      <th>...</th>\n",
              "      <td>...</td>\n",
              "      <td>...</td>\n",
              "      <td>...</td>\n",
              "      <td>...</td>\n",
              "      <td>...</td>\n",
              "      <td>...</td>\n",
              "      <td>...</td>\n",
              "      <td>...</td>\n",
              "      <td>...</td>\n",
              "      <td>...</td>\n",
              "      <td>...</td>\n",
              "      <td>...</td>\n",
              "      <td>...</td>\n",
              "      <td>...</td>\n",
              "      <td>...</td>\n",
              "    </tr>\n",
              "    <tr>\n",
              "      <th>4/17/2020</th>\n",
              "      <td>XIAOMI REDMI NOTE 7 RAM 4GB INTERNAL 64GB 4/64...</td>\n",
              "      <td>D2319</td>\n",
              "      <td>829.0</td>\n",
              "      <td>OS</td>\n",
              "      <td>Xiaomi Redmi Note 7</td>\n",
              "      <td>Kota Administrasi Jakarta Barat</td>\n",
              "      <td>False</td>\n",
              "      <td>2650000</td>\n",
              "      <td>7</td>\n",
              "      <td>0</td>\n",
              "      <td>0</td>\n",
              "      <td>6</td>\n",
              "      <td>99</td>\n",
              "      <td>91</td>\n",
              "      <td>141</td>\n",
              "    </tr>\n",
              "    <tr>\n",
              "      <th>4/4/2020</th>\n",
              "      <td>XIAOMI REDMI NOTE 8 Pro NOTE8 6GB 128GB 6 128 ...</td>\n",
              "      <td>F339</td>\n",
              "      <td>4239.0</td>\n",
              "      <td>OS</td>\n",
              "      <td>Xiaomi Redmi Note 6 Pro</td>\n",
              "      <td>Kota Administrasi Jakarta Barat</td>\n",
              "      <td>False</td>\n",
              "      <td>3699000</td>\n",
              "      <td>76</td>\n",
              "      <td>0</td>\n",
              "      <td>0</td>\n",
              "      <td>11</td>\n",
              "      <td>100</td>\n",
              "      <td>8</td>\n",
              "      <td>24</td>\n",
              "    </tr>\n",
              "    <tr>\n",
              "      <th>4/7/2020</th>\n",
              "      <td>Asus Zenfone 3 Max ZC520TL - 4G LTE - 2GB/32GB...</td>\n",
              "      <td>A287</td>\n",
              "      <td>843.0</td>\n",
              "      <td>OS</td>\n",
              "      <td>Asus Zenfone 3 Max ZC520TL</td>\n",
              "      <td>Kota Administrasi Jakarta Pusat</td>\n",
              "      <td>False</td>\n",
              "      <td>1580000</td>\n",
              "      <td>7</td>\n",
              "      <td>0</td>\n",
              "      <td>0</td>\n",
              "      <td>25</td>\n",
              "      <td>100</td>\n",
              "      <td>6</td>\n",
              "      <td>8</td>\n",
              "    </tr>\n",
              "    <tr>\n",
              "      <th>4/27/2020</th>\n",
              "      <td>[NEW] Huawei Honor 9 Lite RAM 3GB Internal 32G...</td>\n",
              "      <td>C1304</td>\n",
              "      <td>842.0</td>\n",
              "      <td>OS</td>\n",
              "      <td>Huawei P30 lite New Edition</td>\n",
              "      <td>Kota Administrasi Jakarta Pusat</td>\n",
              "      <td>False</td>\n",
              "      <td>2000000</td>\n",
              "      <td>999985</td>\n",
              "      <td>0</td>\n",
              "      <td>0</td>\n",
              "      <td>10</td>\n",
              "      <td>97</td>\n",
              "      <td>27</td>\n",
              "      <td>133</td>\n",
              "    </tr>\n",
              "    <tr>\n",
              "      <th>4/30/2020</th>\n",
              "      <td>Asus Zenfone 4 Selfie (ZD553KL) - Garansi Resmi</td>\n",
              "      <td>B673</td>\n",
              "      <td>813.0</td>\n",
              "      <td>OS</td>\n",
              "      <td>Asus Zenfone 4 Selfie ZD553KL</td>\n",
              "      <td>Kota Administrasi Jakarta Timur</td>\n",
              "      <td>False</td>\n",
              "      <td>1520000</td>\n",
              "      <td>2</td>\n",
              "      <td>0</td>\n",
              "      <td>0</td>\n",
              "      <td>34</td>\n",
              "      <td>96</td>\n",
              "      <td>205</td>\n",
              "      <td>423</td>\n",
              "    </tr>\n",
              "  </tbody>\n",
              "</table>\n",
              "<p>2220 rows × 15 columns</p>\n",
              "</div>"
            ],
            "text/plain": [
              "                                                    sku_name  ... total_sold\n",
              "date                                                          ...           \n",
              "4/25/2020             oppo A9 2020 ram 8/128gb garansi resmi  ...         45\n",
              "4/19/2020  [NEW] Oppo A9 2020 8/128 GB Garansi Resmi RAM ...  ...        261\n",
              "4/26/2020                                    hp Oppo a9 2020  ...         75\n",
              "4/28/2020             Oppo F3 Ram 4gb Rom 64gb Garansi Resmi  ...         91\n",
              "4/29/2020             Oppo F3 Ram 4gb Rom 64gb Garansi Resmi  ...         91\n",
              "...                                                      ...  ...        ...\n",
              "4/17/2020  XIAOMI REDMI NOTE 7 RAM 4GB INTERNAL 64GB 4/64...  ...        141\n",
              "4/4/2020   XIAOMI REDMI NOTE 8 Pro NOTE8 6GB 128GB 6 128 ...  ...         24\n",
              "4/7/2020   Asus Zenfone 3 Max ZC520TL - 4G LTE - 2GB/32GB...  ...          8\n",
              "4/27/2020  [NEW] Huawei Honor 9 Lite RAM 3GB Internal 32G...  ...        133\n",
              "4/30/2020    Asus Zenfone 4 Selfie (ZD553KL) - Garansi Resmi  ...        423\n",
              "\n",
              "[2220 rows x 15 columns]"
            ]
          },
          "metadata": {
            "tags": []
          },
          "execution_count": 6
        }
      ]
    },
    {
      "cell_type": "markdown",
      "metadata": {
        "id": "RdJA2utgcfG4"
      },
      "source": [
        "nilai tanpa duplicate"
      ]
    },
    {
      "cell_type": "code",
      "metadata": {
        "colab": {
          "base_uri": "https://localhost:8080/"
        },
        "id": "tZh8FO2dcpPo",
        "outputId": "ef8d6b0c-723f-44c1-dd6c-d82bcdd68745"
      },
      "source": [
        "dup.isnull().sum()"
      ],
      "execution_count": null,
      "outputs": [
        {
          "output_type": "execute_result",
          "data": {
            "text/plain": [
              "0"
            ]
          },
          "metadata": {
            "tags": []
          },
          "execution_count": 7
        }
      ]
    },
    {
      "cell_type": "markdown",
      "metadata": {
        "id": "tNLfyhKsn36a"
      },
      "source": [
        "Cek type data"
      ]
    },
    {
      "cell_type": "code",
      "metadata": {
        "colab": {
          "base_uri": "https://localhost:8080/"
        },
        "id": "_G_CSZBEj_Mt",
        "outputId": "525b5a16-8f34-4cca-9f04-e804b1c089f2"
      },
      "source": [
        "market.dtypes"
      ],
      "execution_count": null,
      "outputs": [
        {
          "output_type": "execute_result",
          "data": {
            "text/plain": [
              "sku_name           object\n",
              "product_id         object\n",
              "merchant_code     float64\n",
              "merchant_badge     object\n",
              "product_type       object\n",
              "merchant_city      object\n",
              "cod                  bool\n",
              "price               int64\n",
              "stock               int64\n",
              "daily_gmv           int64\n",
              "daily_sold          int64\n",
              "daily_view          int64\n",
              "rating              int64\n",
              "total_review        int64\n",
              "total_sold          int64\n",
              "dtype: object"
            ]
          },
          "metadata": {
            "tags": []
          },
          "execution_count": 8
        }
      ]
    },
    {
      "cell_type": "markdown",
      "metadata": {
        "id": "vJMTkDglq51B"
      },
      "source": [
        "mengubah tipe data"
      ]
    },
    {
      "cell_type": "code",
      "metadata": {
        "id": "qtol82HTq9IJ"
      },
      "source": [
        "market[['merchant_code']]=market[['merchant_code']].astype('Int64')"
      ],
      "execution_count": null,
      "outputs": []
    },
    {
      "cell_type": "code",
      "metadata": {
        "colab": {
          "base_uri": "https://localhost:8080/",
          "height": 594
        },
        "id": "4AxMJIPTeU7j",
        "outputId": "deb933e0-7e50-40fa-acc1-7febeff88c82"
      },
      "source": [
        "market.head()"
      ],
      "execution_count": null,
      "outputs": [
        {
          "output_type": "execute_result",
          "data": {
            "text/html": [
              "<div>\n",
              "<style scoped>\n",
              "    .dataframe tbody tr th:only-of-type {\n",
              "        vertical-align: middle;\n",
              "    }\n",
              "\n",
              "    .dataframe tbody tr th {\n",
              "        vertical-align: top;\n",
              "    }\n",
              "\n",
              "    .dataframe thead th {\n",
              "        text-align: right;\n",
              "    }\n",
              "</style>\n",
              "<table border=\"1\" class=\"dataframe\">\n",
              "  <thead>\n",
              "    <tr style=\"text-align: right;\">\n",
              "      <th></th>\n",
              "      <th>sku_name</th>\n",
              "      <th>product_id</th>\n",
              "      <th>merchant_code</th>\n",
              "      <th>merchant_badge</th>\n",
              "      <th>product_type</th>\n",
              "      <th>merchant_city</th>\n",
              "      <th>cod</th>\n",
              "      <th>price</th>\n",
              "      <th>stock</th>\n",
              "      <th>daily_gmv</th>\n",
              "      <th>daily_sold</th>\n",
              "      <th>daily_view</th>\n",
              "      <th>rating</th>\n",
              "      <th>total_review</th>\n",
              "      <th>total_sold</th>\n",
              "    </tr>\n",
              "    <tr>\n",
              "      <th>date</th>\n",
              "      <th></th>\n",
              "      <th></th>\n",
              "      <th></th>\n",
              "      <th></th>\n",
              "      <th></th>\n",
              "      <th></th>\n",
              "      <th></th>\n",
              "      <th></th>\n",
              "      <th></th>\n",
              "      <th></th>\n",
              "      <th></th>\n",
              "      <th></th>\n",
              "      <th></th>\n",
              "      <th></th>\n",
              "      <th></th>\n",
              "    </tr>\n",
              "  </thead>\n",
              "  <tbody>\n",
              "    <tr>\n",
              "      <th>3/11/2020</th>\n",
              "      <td>HUAWEI NOVA 5T RAM 8GB INTERNAL 128GB</td>\n",
              "      <td>E1</td>\n",
              "      <td>1</td>\n",
              "      <td>PM</td>\n",
              "      <td>Huawei nova 5T</td>\n",
              "      <td>Kota Kediri</td>\n",
              "      <td>False</td>\n",
              "      <td>4500000</td>\n",
              "      <td>1</td>\n",
              "      <td>0</td>\n",
              "      <td>0</td>\n",
              "      <td>0</td>\n",
              "      <td>95</td>\n",
              "      <td>37</td>\n",
              "      <td>74</td>\n",
              "    </tr>\n",
              "    <tr>\n",
              "      <th>3/26/2020</th>\n",
              "      <td>Huawei Nova 5T (8GB/128GB) - Crush Green</td>\n",
              "      <td>F1</td>\n",
              "      <td>2</td>\n",
              "      <td>OS</td>\n",
              "      <td>Huawei nova 5T</td>\n",
              "      <td>Kota Administrasi Jakarta Utara</td>\n",
              "      <td>False</td>\n",
              "      <td>4999000</td>\n",
              "      <td>5</td>\n",
              "      <td>0</td>\n",
              "      <td>0</td>\n",
              "      <td>0</td>\n",
              "      <td>0</td>\n",
              "      <td>0</td>\n",
              "      <td>2</td>\n",
              "    </tr>\n",
              "    <tr>\n",
              "      <th>3/23/2020</th>\n",
              "      <td>HUAWEI NOVA 5T RAM 8/128 GARANSI RESMI HUAWEI ...</td>\n",
              "      <td>F2</td>\n",
              "      <td>3</td>\n",
              "      <td>PM</td>\n",
              "      <td>Huawei nova 5T</td>\n",
              "      <td>Kota Administrasi Jakarta Barat</td>\n",
              "      <td>False</td>\n",
              "      <td>4589900</td>\n",
              "      <td>16</td>\n",
              "      <td>0</td>\n",
              "      <td>0</td>\n",
              "      <td>0</td>\n",
              "      <td>96</td>\n",
              "      <td>12</td>\n",
              "      <td>19</td>\n",
              "    </tr>\n",
              "    <tr>\n",
              "      <th>4/29/2020</th>\n",
              "      <td>HUAWEI NOVA 5T RAM 8/128GB GARANSI RESMI HUAWE...</td>\n",
              "      <td>E2</td>\n",
              "      <td>4</td>\n",
              "      <td>OS</td>\n",
              "      <td>Huawei nova 5T</td>\n",
              "      <td>Kota Surabaya</td>\n",
              "      <td>False</td>\n",
              "      <td>4698500</td>\n",
              "      <td>5</td>\n",
              "      <td>0</td>\n",
              "      <td>0</td>\n",
              "      <td>0</td>\n",
              "      <td>99</td>\n",
              "      <td>42</td>\n",
              "      <td>63</td>\n",
              "    </tr>\n",
              "    <tr>\n",
              "      <th>4/15/2020</th>\n",
              "      <td>nokia 3310 reborn</td>\n",
              "      <td>C1</td>\n",
              "      <td>5</td>\n",
              "      <td>RM</td>\n",
              "      <td>Nokia 1</td>\n",
              "      <td>Kab. Bangkalan</td>\n",
              "      <td>True</td>\n",
              "      <td>1000000</td>\n",
              "      <td>999999</td>\n",
              "      <td>0</td>\n",
              "      <td>0</td>\n",
              "      <td>3</td>\n",
              "      <td>100</td>\n",
              "      <td>18</td>\n",
              "      <td>82</td>\n",
              "    </tr>\n",
              "  </tbody>\n",
              "</table>\n",
              "</div>"
            ],
            "text/plain": [
              "                                                    sku_name  ... total_sold\n",
              "date                                                          ...           \n",
              "3/11/2020              HUAWEI NOVA 5T RAM 8GB INTERNAL 128GB  ...         74\n",
              "3/26/2020           Huawei Nova 5T (8GB/128GB) - Crush Green  ...          2\n",
              "3/23/2020  HUAWEI NOVA 5T RAM 8/128 GARANSI RESMI HUAWEI ...  ...         19\n",
              "4/29/2020  HUAWEI NOVA 5T RAM 8/128GB GARANSI RESMI HUAWE...  ...         63\n",
              "4/15/2020                                  nokia 3310 reborn  ...         82\n",
              "\n",
              "[5 rows x 15 columns]"
            ]
          },
          "metadata": {
            "tags": []
          },
          "execution_count": 27
        }
      ]
    },
    {
      "cell_type": "markdown",
      "metadata": {
        "id": "7g3aeFfQrIMb"
      },
      "source": [
        "Apakah ada nilai dalam variabel yang nol? Yang mana Jika ada beberapa variabel null pada dataset tersebut, silahkan isi nilainya dengan 0.\r\n"
      ]
    },
    {
      "cell_type": "code",
      "metadata": {
        "colab": {
          "base_uri": "https://localhost:8080/"
        },
        "id": "CqLWNbXJEj0z",
        "outputId": "8cfad99c-087c-4266-a5ce-c614853e2b0e"
      },
      "source": [
        "market.info()"
      ],
      "execution_count": null,
      "outputs": [
        {
          "output_type": "stream",
          "text": [
            "<class 'pandas.core.frame.DataFrame'>\n",
            "Index: 26014 entries, 3/11/2020 to 4/11/2020\n",
            "Data columns (total 15 columns):\n",
            " #   Column          Non-Null Count  Dtype \n",
            "---  ------          --------------  ----- \n",
            " 0   sku_name        26014 non-null  object\n",
            " 1   product_id      26014 non-null  object\n",
            " 2   merchant_code   26007 non-null  Int64 \n",
            " 3   merchant_badge  26014 non-null  object\n",
            " 4   product_type    26014 non-null  object\n",
            " 5   merchant_city   26014 non-null  object\n",
            " 6   cod             26014 non-null  bool  \n",
            " 7   price           26014 non-null  int64 \n",
            " 8   stock           26014 non-null  int64 \n",
            " 9   daily_gmv       26014 non-null  int64 \n",
            " 10  daily_sold      26014 non-null  int64 \n",
            " 11  daily_view      26014 non-null  int64 \n",
            " 12  rating          26014 non-null  int64 \n",
            " 13  total_review    26014 non-null  int64 \n",
            " 14  total_sold      26014 non-null  int64 \n",
            "dtypes: Int64(1), bool(1), int64(8), object(5)\n",
            "memory usage: 3.7+ MB\n"
          ],
          "name": "stdout"
        }
      ]
    },
    {
      "cell_type": "code",
      "metadata": {
        "colab": {
          "base_uri": "https://localhost:8080/"
        },
        "id": "_tScFRSvEqpf",
        "outputId": "02847312-5bf6-407f-ad3a-49f400fc43b7"
      },
      "source": [
        "market.isnull().sum()"
      ],
      "execution_count": null,
      "outputs": [
        {
          "output_type": "execute_result",
          "data": {
            "text/plain": [
              "sku_name          0\n",
              "product_id        0\n",
              "merchant_code     7\n",
              "merchant_badge    0\n",
              "product_type      0\n",
              "merchant_city     0\n",
              "cod               0\n",
              "price             0\n",
              "stock             0\n",
              "daily_gmv         0\n",
              "daily_sold        0\n",
              "daily_view        0\n",
              "rating            0\n",
              "total_review      0\n",
              "total_sold        0\n",
              "dtype: int64"
            ]
          },
          "metadata": {
            "tags": []
          },
          "execution_count": 29
        }
      ]
    },
    {
      "cell_type": "code",
      "metadata": {
        "id": "HO4Gzg0tFIsv"
      },
      "source": [
        "from sklearn.impute import SimpleImputer\r\n",
        "from scipy.stats import mode"
      ],
      "execution_count": null,
      "outputs": []
    },
    {
      "cell_type": "code",
      "metadata": {
        "id": "XE7VW2oOFQSJ"
      },
      "source": [
        "market[\"merchant_code\"]=market[\"merchant_code\"].fillna((0))"
      ],
      "execution_count": null,
      "outputs": []
    },
    {
      "cell_type": "code",
      "metadata": {
        "colab": {
          "base_uri": "https://localhost:8080/"
        },
        "id": "XX6DAzK3HCFJ",
        "outputId": "193b2aa1-08d3-40d6-b315-e805f8b3de5d"
      },
      "source": [
        "market.isnull().sum()"
      ],
      "execution_count": null,
      "outputs": [
        {
          "output_type": "execute_result",
          "data": {
            "text/plain": [
              "sku_name          0\n",
              "product_id        0\n",
              "merchant_code     0\n",
              "merchant_badge    0\n",
              "product_type      0\n",
              "merchant_city     0\n",
              "cod               0\n",
              "price             0\n",
              "stock             0\n",
              "daily_gmv         0\n",
              "daily_sold        0\n",
              "daily_view        0\n",
              "rating            0\n",
              "total_review      0\n",
              "total_sold        0\n",
              "dtype: int64"
            ]
          },
          "metadata": {
            "tags": []
          },
          "execution_count": 33
        }
      ]
    },
    {
      "cell_type": "markdown",
      "metadata": {
        "id": "DrGhfkl9rMpr"
      },
      "source": [
        "cek produk category"
      ]
    },
    {
      "cell_type": "code",
      "metadata": {
        "colab": {
          "base_uri": "https://localhost:8080/"
        },
        "id": "RyoJZg32W52o",
        "outputId": "4741cf77-b5bc-4075-db88-b43ab2577e0d"
      },
      "source": [
        "market[\"product_type\"].value_counts()"
      ],
      "execution_count": null,
      "outputs": [
        {
          "output_type": "execute_result",
          "data": {
            "text/plain": [
              "Realme 6                          2161\n",
              "Samsung Galaxy A10s               1062\n",
              "Xiaomi Redmi Note 8               1025\n",
              "Xiaomi Redmi 7A                    860\n",
              "Xiaomi Redmi 6A                    747\n",
              "                                  ... \n",
              "Asus ZenFone Lite (L1) ZA551KL       1\n",
              "Xiaomi Mi 8 Explorer                 1\n",
              "Infinix Hot S                        1\n",
              "Huawei P10 Plus                      1\n",
              "Samsung Galaxy S5 Neo                1\n",
              "Name: product_type, Length: 361, dtype: int64"
            ]
          },
          "metadata": {
            "tags": []
          },
          "execution_count": 6
        }
      ]
    },
    {
      "cell_type": "markdown",
      "metadata": {
        "id": "42gqSDqBJpm-"
      },
      "source": [
        "Jenis produk apa yang termasuk dalam 3 produk teratas dalam penjualan?"
      ]
    },
    {
      "cell_type": "code",
      "metadata": {
        "colab": {
          "base_uri": "https://localhost:8080/"
        },
        "id": "z9C_m2qckZ9h",
        "outputId": "719b111d-d6e8-4c2b-e9e5-27f5c6106f11"
      },
      "source": [
        "market[\"product_type\"].value_counts().head(3)"
      ],
      "execution_count": null,
      "outputs": [
        {
          "output_type": "execute_result",
          "data": {
            "text/plain": [
              "Realme 6               2161\n",
              "Samsung Galaxy A10s    1062\n",
              "Xiaomi Redmi Note 8    1025\n",
              "Name: product_type, dtype: int64"
            ]
          },
          "metadata": {
            "tags": []
          },
          "execution_count": 101
        }
      ]
    },
    {
      "cell_type": "markdown",
      "metadata": {
        "id": "1wNFqlcjrWZv"
      },
      "source": [
        "Berdasarkan produk teratas pertama. Berapa harga rata-rata, dan seberapa bervariasinya harga jual? dan menampilkan visualisasi distribusi harga dengan histogram.\r\n"
      ]
    },
    {
      "cell_type": "code",
      "metadata": {
        "id": "U7C6mIJI8ffP",
        "colab": {
          "base_uri": "https://localhost:8080/",
          "height": 295
        },
        "outputId": "b2c7b1f3-1268-4146-ec41-92b14610aac2"
      },
      "source": [
        "market[market[\"product_type\"]==\"Samsung Galaxy A10s\"][\"price\"].plot(kind=\"hist\")"
      ],
      "execution_count": null,
      "outputs": [
        {
          "output_type": "execute_result",
          "data": {
            "text/plain": [
              "<matplotlib.axes._subplots.AxesSubplot at 0x7f4193eec198>"
            ]
          },
          "metadata": {
            "tags": []
          },
          "execution_count": 17
        },
        {
          "output_type": "display_data",
          "data": {
            "image/png": "[encoded data removed]",
            "text/plain": [
              "<Figure size 432x288 with 1 Axes>"
            ]
          },
          "metadata": {
            "tags": [],
            "needs_background": "light"
          }
        }
      ]
    },
    {
      "cell_type": "code",
      "metadata": {
        "colab": {
          "base_uri": "https://localhost:8080/",
          "height": 361
        },
        "id": "SEym9LA3dhHD",
        "outputId": "d9bd8fb2-c5ab-40fd-b2e8-5801d08c2133"
      },
      "source": [
        "plt.figure(figsize=(8, 4))\r\n",
        "sns.distplot(market[market[\"product_type\"]==\"Samsung Galaxy A10s\"][\"price\"], bins=40)"
      ],
      "execution_count": null,
      "outputs": [
        {
          "output_type": "stream",
          "text": [
            "/usr/local/lib/python3.6/dist-packages/seaborn/distributions.py:2557: FutureWarning: `distplot` is a deprecated function and will be removed in a future version. Please adapt your code to use either `displot` (a figure-level function with similar flexibility) or `histplot` (an axes-level function for histograms).\n",
            "  warnings.warn(msg, FutureWarning)\n"
          ],
          "name": "stderr"
        },
        {
          "output_type": "execute_result",
          "data": {
            "text/plain": [
              "<matplotlib.axes._subplots.AxesSubplot at 0x7f4193cbb978>"
            ]
          },
          "metadata": {
            "tags": []
          },
          "execution_count": 18
        },
        {
          "output_type": "display_data",
          "data": {
            "image/png": "[encoded data removed]",
            "text/plain": [
              "<Figure size 576x288 with 1 Axes>"
            ]
          },
          "metadata": {
            "tags": [],
            "needs_background": "light"
          }
        }
      ]
    },
    {
      "cell_type": "code",
      "metadata": {
        "id": "TGUoDzsgdpgs",
        "colab": {
          "base_uri": "https://localhost:8080/"
        },
        "outputId": "21a35c7c-69eb-48ea-c086-b3c82113cf2d"
      },
      "source": [
        "df=market.groupby(\"product_type\")['price'].mean().sort_values(ascending=False)\r\n",
        "print(df.loc[[\"Samsung Galaxy A10s\"]])"
      ],
      "execution_count": null,
      "outputs": [
        {
          "output_type": "stream",
          "text": [
            "product_type\n",
            "Samsung Galaxy A10s    1.622651e+06\n",
            "Name: price, dtype: float64\n"
          ],
          "name": "stdout"
        }
      ]
    },
    {
      "cell_type": "markdown",
      "metadata": {
        "id": "15iHnGs_rd0Y"
      },
      "source": [
        "Filter dataset hanya dengan 'Samsung Galaxy A10s', dan temukan 3 kota pedagang terlaris. Tunjukkan dengan beberapa boxplot distribusi harga antara kota pedagang 3 teratas itu!\r\n"
      ]
    },
    {
      "cell_type": "code",
      "metadata": {
        "colab": {
          "base_uri": "https://localhost:8080/",
          "height": 443
        },
        "id": "UKL_gHApcZ88",
        "outputId": "493faa0e-b1db-42da-b587-5498f8144f0e"
      },
      "source": [
        "a=market[market[\"product_type\"]==\"Samsung Galaxy A10s\"]\r\n",
        "a.groupby(\"merchant_city\")['total_sold'].sum().sort_values(ascending=False).head(3).plot(kind=\"bar\")"
      ],
      "execution_count": null,
      "outputs": [
        {
          "output_type": "execute_result",
          "data": {
            "text/plain": [
              "<matplotlib.axes._subplots.AxesSubplot at 0x7f4194a4ae80>"
            ]
          },
          "metadata": {
            "tags": []
          },
          "execution_count": 14
        },
        {
          "output_type": "display_data",
          "data": {
            "image/png": "[encoded data removed]",
            "text/plain": [
              "<Figure size 432x288 with 1 Axes>"
            ]
          },
          "metadata": {
            "tags": [],
            "needs_background": "light"
          }
        }
      ]
    },
    {
      "cell_type": "code",
      "metadata": {
        "colab": {
          "base_uri": "https://localhost:8080/"
        },
        "id": "LdkmoZORch2g",
        "outputId": "113d7ee4-7eee-43dd-d560-e0aaca344aec"
      },
      "source": [
        "a.groupby(\"merchant_city\")['total_sold'].sum().sort_values(ascending=False).head(3)"
      ],
      "execution_count": null,
      "outputs": [
        {
          "output_type": "execute_result",
          "data": {
            "text/plain": [
              "merchant_city\n",
              "Kota Administrasi Jakarta Pusat    71373\n",
              "Kab. Sleman                        57790\n",
              "Kab. Bantul                        46091\n",
              "Name: total_sold, dtype: int64"
            ]
          },
          "metadata": {
            "tags": []
          },
          "execution_count": 15
        }
      ]
    },
    {
      "cell_type": "code",
      "metadata": {
        "colab": {
          "base_uri": "https://localhost:8080/",
          "height": 895
        },
        "id": "XBQ58xA1cs-l",
        "outputId": "704ba1f2-beb2-47c2-d7d3-144f254f1563"
      },
      "source": [
        "city=['Kota Administrasi Jakarta Pusat','Kab. Sleman','Kab. Bantul']\r\n",
        "b=market[market['merchant_city'].isin(city)]\r\n",
        "plt.figure(figsize=(15,15))\r\n",
        "boxplot=sns.boxplot(x=\"merchant_city\", y=\"total_sold\", data=b)\r\n",
        "print(boxplot)"
      ],
      "execution_count": null,
      "outputs": [
        {
          "output_type": "stream",
          "text": [
            "AxesSubplot(0.125,0.125;0.775x0.755)\n"
          ],
          "name": "stdout"
        },
        {
          "output_type": "display_data",
          "data": {
            "image/png": "[encoded data removed]",
            "text/plain": [
              "<Figure size 1080x1080 with 1 Axes>"
            ]
          },
          "metadata": {
            "tags": [],
            "needs_background": "light"
          }
        }
      ]
    },
    {
      "cell_type": "markdown",
      "metadata": {
        "id": "yQRo3o6YcYkl"
      },
      "source": [
        "\r\n",
        "Ujilah perbedaan total_sold produk Samsung Galaxy A10s dengan Xiaomi Redmi 6A menggunakan t-sample test"
      ]
    },
    {
      "cell_type": "code",
      "metadata": {
        "id": "bne_JbCgvDzr",
        "colab": {
          "base_uri": "https://localhost:8080/"
        },
        "outputId": "42982ee7-17ba-4122-b269-fbb9a30367e1"
      },
      "source": [
        "from scipy.stats import ttest_ind\r\n",
        "import numpy as np\r\n",
        "samsung= market[market['product_type']=='Samsung Galaxy A10s']['total_sold']\r\n",
        "xiaomi= market[market['product_type']=='Xiaomi Redmi 6A']['total_sold']\r\n",
        "\r\n",
        "samsung_mean=np.mean(samsung)\r\n",
        "xiaomi_mean=np.mean(xiaomi)\r\n",
        "\r\n",
        "print(\"Rata - rata penjualan Samsung Galaxy A10s : \",samsung_mean)\r\n",
        "print(\"Rata - rata penjualan Xiaomi Redmi 6A : \",xiaomi_mean)\r\n",
        "\r\n",
        "samsung_std=np.std(samsung)\r\n",
        "xiaomi_std=np.std(xiaomi)\r\n",
        "\r\n",
        "print(\"Standard Deviasi Samsung Galaxy A10s : \",samsung_std)\r\n",
        "print(\"Standard Deviasi Xiaomi Redmi 6A : \",xiaomi_std)\r\n",
        "\r\n",
        "ttest,pval = ttest_ind(samsung,xiaomi)\r\n",
        "print(\"p-value\", pval)"
      ],
      "execution_count": null,
      "outputs": [
        {
          "output_type": "stream",
          "text": [
            "Rata - rata penjualan Samsung Galaxy A10s :  495.1525423728813\n",
            "Rata - rata penjualan Xiaomi Redmi 6A :  445.0147255689424\n",
            "Standard Deviasi Samsung Galaxy A10s :  626.3434790554674\n",
            "Standard Deviasi Xiaomi Redmi 6A :  580.394664272472\n",
            "p-value 0.08442284533312362\n"
          ],
          "name": "stdout"
        }
      ]
    },
    {
      "cell_type": "markdown",
      "metadata": {
        "id": "sMj8NPCUrlut"
      },
      "source": [
        "Berikan kesimpulan dari jawaban yang telah didapatkan dari poin 1-8\r\n"
      ]
    }
  ]
}